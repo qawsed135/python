{
  "nbformat": 4,
  "nbformat_minor": 0,
  "metadata": {
    "colab": {
      "provenance": [],
      "authorship_tag": "ABX9TyM7igdOkfe+U1mGNpOSwnCm",
      "include_colab_link": true
    },
    "kernelspec": {
      "name": "python3",
      "display_name": "Python 3"
    },
    "language_info": {
      "name": "python"
    }
  },
  "cells": [
    {
      "cell_type": "markdown",
      "metadata": {
        "id": "view-in-github",
        "colab_type": "text"
      },
      "source": [
        "<a href=\"https://colab.research.google.com/github/qawsed135/python/blob/main/Untitled11.ipynb\" target=\"_parent\"><img src=\"https://colab.research.google.com/assets/colab-badge.svg\" alt=\"Open In Colab\"/></a>"
      ]
    },
    {
      "cell_type": "code",
      "execution_count": null,
      "metadata": {
        "id": "YUai7EWEr_rT"
      },
      "outputs": [],
      "source": [
        "def get_radius(prompt):\n",
        "    r = int(input(prompt))\n",
        "    return r\n",
        "\n",
        "def get_circle_area(radius):\n",
        "    a = 3.14 * radius * radius\n",
        "    return a\n",
        "\n",
        "radius = get_radius(\"넓이를 구하고자 하는 반지름은?\")\n",
        "a = get_circle_area(radius)\n",
        "print(\"반지름이\", radius,\"인 원의 넓이\", \"=\", \"3.14 *\",radius,\"*\",radius,\"=\",a)"
      ]
    }
  ]
}