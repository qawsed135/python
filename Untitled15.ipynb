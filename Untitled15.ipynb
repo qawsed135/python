{
  "nbformat": 4,
  "nbformat_minor": 0,
  "metadata": {
    "colab": {
      "provenance": [],
      "authorship_tag": "ABX9TyOC6J7/k+TChaceONnkdH+9",
      "include_colab_link": true
    },
    "kernelspec": {
      "name": "python3",
      "display_name": "Python 3"
    },
    "language_info": {
      "name": "python"
    }
  },
  "cells": [
    {
      "cell_type": "markdown",
      "metadata": {
        "id": "view-in-github",
        "colab_type": "text"
      },
      "source": [
        "<a href=\"https://colab.research.google.com/github/qawsed135/python/blob/main/Untitled15.ipynb\" target=\"_parent\"><img src=\"https://colab.research.google.com/assets/colab-badge.svg\" alt=\"Open In Colab\"/></a>"
      ]
    },
    {
      "cell_type": "code",
      "execution_count": null,
      "metadata": {
        "id": "ABwybMJL-sie"
      },
      "outputs": [],
      "source": [
        "def exchange(amount):\n",
        "\n",
        "    n500=amount//500\n",
        "    amount%=500\n",
        "\n",
        "    n100=amount//100\n",
        "    amount%=100\n",
        "\n",
        "    n50=amount//50\n",
        "    amount%=50\n",
        "\n",
        "    n10=amount//10\n",
        "\n",
        "    print('500원 동전의 개수:',n500)\n",
        "    print('100원 동전의 개수:',n100)\n",
        "    print('50원 동전의 개수:',n50)\n",
        "    print('10원 동전의 개수:',n10)\n",
        "\n",
        "def get_integer(prompt):\n",
        "    amount=int(input(prompt))\n",
        "    return amount\n",
        "\n",
        "amount=int(input('동전으로 교환하고자 하는 금액은?'))\n",
        "exchange(amount)\n",
        "\n",
        "   "
      ]
    },
    {
      "cell_type": "code",
      "source": [
        "5%3"
      ],
      "metadata": {
        "colab": {
          "base_uri": "https://localhost:8080/"
        },
        "id": "U2dKUdc6CT3V",
        "outputId": "0085b513-3a02-4c36-e4c7-abaa00dd4166"
      },
      "execution_count": 1,
      "outputs": [
        {
          "output_type": "execute_result",
          "data": {
            "text/plain": [
              "2"
            ]
          },
          "metadata": {},
          "execution_count": 1
        }
      ]
    }
  ]
}